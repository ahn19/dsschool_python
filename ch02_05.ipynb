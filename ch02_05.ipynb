a = 1
if a % 2 == 0:
    print("짝수")
else:
    print("홀수")
